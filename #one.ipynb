{
 "cells": [
  {
   "cell_type": "code",
   "execution_count": 1,
   "metadata": {},
   "outputs": [],
   "source": [
    "import cv2\n",
    "import time"
   ]
  },
  {
   "cell_type": "code",
   "execution_count": 2,
   "metadata": {},
   "outputs": [],
   "source": [
    "face_cascade_path = \"haarcascade_frontalface_default.xml\"\n",
    "smile_cascade_path = \"haarcascade_smile.xml\"\n",
    "\n",
    "face_cascade = cv2.CascadeClassifier(face_cascade_path)\n",
    "smile_cascade = cv2.CascadeClassifier(smile_cascade_path)\n",
    "\n"
   ]
  },
  {
   "cell_type": "code",
   "execution_count": 3,
   "metadata": {},
   "outputs": [
    {
     "data": {
      "text/plain": [
       "True"
      ]
     },
     "execution_count": 3,
     "metadata": {},
     "output_type": "execute_result"
    }
   ],
   "source": [
    "video_capture = cv2.VideoCapture(0)\n",
    "video_capture.set(3, 640)\n",
    "video_capture.set(4, 480)\n"
   ]
  },
  {
   "cell_type": "code",
   "execution_count": 4,
   "metadata": {},
   "outputs": [],
   "source": [
    "\n",
    "while True:\n",
    "    ret, frame = video_capture.read()\n",
    "    # image_capture = frame\n",
    "\n",
    "    gray = cv2.cvtColor(frame, cv2.COLOR_BGR2GRAY)\n",
    "\n",
    "    faces = face_cascade.detectMultiScale(\n",
    "        gray,\n",
    "        scaleFactor = 1.05,\n",
    "        minNeighbors = 22,\n",
    "        minSize = (55, 55),\n",
    "        flags = cv2.CASCADE_SCALE_IMAGE\n",
    "    )\n",
    "\n",
    "    for (x, y, w, h) in faces:\n",
    "        cv2.rectangle(frame, (x, y), (x+w, y+h), (0, 255, 0), 2)\n",
    "        roi_gray = gray[y:y+h, x:x+w]\n",
    "        roi_color = frame[y:y+h, x:x+w]\n",
    "\n",
    "        smile = smile_cascade.detectMultiScale(\n",
    "            roi_gray,\n",
    "            scaleFactor = 1.8,\n",
    "            minNeighbors=30,\n",
    "            minSize = (25, 25),\n",
    "            flags = cv2.CASCADE_SCALE_IMAGE\n",
    "        )\n",
    "        \n",
    "        for (x, y, w, h) in smile:\n",
    "            cv2.rectangle(roi_color, (x, y-20), (x+w, y+h), (255, 0, 0), 1)\n",
    "#             cv2.imwrite(str(time.time()) + \".png\", frame)\n",
    "            cv2.putText(frame, \"smiling\", (10,40), cv2.FONT_ITALIC,1.5, (255, 0, 255), thickness =1, lineType=cv2.LINE_AA)\n",
    "            exit(0)\n",
    "\n",
    "    cv2.imshow('Real-time Smile Detect', frame)\n",
    "      \n",
    "\n",
    "    if cv2.waitKey(1) == ord('q'):\n",
    "        break\n",
    "\n",
    "video_capture.release()\n",
    "cv2.destroyAllWindows()\n"
   ]
  },
  {
   "cell_type": "code",
   "execution_count": null,
   "metadata": {},
   "outputs": [],
   "source": []
  },
  {
   "cell_type": "code",
   "execution_count": null,
   "metadata": {},
   "outputs": [],
   "source": []
  },
  {
   "cell_type": "code",
   "execution_count": null,
   "metadata": {},
   "outputs": [],
   "source": []
  }
 ],
 "metadata": {
  "kernelspec": {
   "display_name": "Python 3",
   "language": "python",
   "name": "python3"
  },
  "language_info": {
   "codemirror_mode": {
    "name": "ipython",
    "version": 3
   },
   "file_extension": ".py",
   "mimetype": "text/x-python",
   "name": "python",
   "nbconvert_exporter": "python",
   "pygments_lexer": "ipython3",
   "version": "3.6.6"
  }
 },
 "nbformat": 4,
 "nbformat_minor": 2
}
