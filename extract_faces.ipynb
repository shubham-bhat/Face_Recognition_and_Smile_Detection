{
 "cells": [
  {
   "cell_type": "code",
   "execution_count": 50,
   "metadata": {},
   "outputs": [],
   "source": [
    "import numpy as np\n",
    "import cv2\n",
    "import face_recognition\n",
    "import imutils\n",
    "import pickle\n"
   ]
  },
  {
   "cell_type": "code",
   "execution_count": 51,
   "metadata": {},
   "outputs": [],
   "source": [
    "videofile = 'team-rotated.mp4'\n",
    "path_prefix = 'C:/Users/jshru_000/bootcamp1/FINAL/faces/'\n",
    "pickle_path = path_prefix + 'faces.pkl'\n"
   ]
  },
  {
   "cell_type": "code",
   "execution_count": 52,
   "metadata": {},
   "outputs": [],
   "source": [
    "def resizeframe(image, width=500):\n",
    "    w = float(width)\n",
    "    r = w / image.shape[1]\n",
    "    dim = (width, int(image.shape[0] * r))\n",
    "    resized = cv2.resize(image, dim, interpolation = cv2.INTER_AREA)\n",
    "    xr = dim[0]/float(image.shape[1])\n",
    "    yr = dim[1]/float(image.shape[0])\n",
    "    return resized\n"
   ]
  },
  {
   "cell_type": "code",
   "execution_count": 53,
   "metadata": {},
   "outputs": [],
   "source": [
    "def draw_str(dst, x, y, s):\n",
    "    cv2.putText(dst, s, (x+1, y+1), cv2.FONT_HERSHEY_PLAIN, 2.0, (0, 0, 0), thickness =2, lineType=cv2.LINE_AA)\n",
    "    cv2.putText(dst, s, (x, y), cv2.FONT_HERSHEY_PLAIN, 2.0, (0, 0, 255), lineType=cv2.LINE_AA)\n"
   ]
  },
  {
   "cell_type": "code",
   "execution_count": 54,
   "metadata": {},
   "outputs": [],
   "source": [
    "def savefacesfromframes(frame):\n",
    "    facelist = []\n",
    "     # facedata = {fname1:encodings1, fname2:encodings2,...}\n",
    "    metadata = get_faces(frame)\n",
    "    if not metadata == {}:\n",
    "         with open(pickle_path,'ab') as f:\n",
    "            pickle.dump(metadata, f)\n",
    "    return(len(metadata))"
   ]
  },
  {
   "cell_type": "code",
   "execution_count": 55,
   "metadata": {},
   "outputs": [],
   "source": [
    "def get_faces(frame):\n",
    "    model = 'hog' # 'cnn'\n",
    "    metadata = {}\n",
    "    global face_counter\n",
    "    rgb = cv2.cvtColor(frame, cv2.COLOR_BGR2RGB)\n",
    "    rgb = imutils.resize(frame, width=750)\n",
    "    r = frame.shape[1] / float(rgb.shape[1])\n",
    "    boxes = face_recognition.face_locations(rgb,model=model)\n",
    "    if not boxes == []:\n",
    "        if not boxes == []:\n",
    "            encodings = face_recognition.face_encodings(rgb, boxes)\n",
    "            assert len(encodings) == len(boxes)\n",
    "            for i, (top, right, bottom, left) in enumerate(boxes):\n",
    "                top = int(top * r)\n",
    "                right = int(right * r)\n",
    "                bottom = int(bottom * r)\n",
    "                left = int(left * r)\n",
    "                thisFace = frame[top:bottom,left:right]\n",
    "                thisFace = cv2.resize(thisFace, (96, 96))\n",
    "                fname = 'face_'+str(face_counter)+'_'+str(i)+'.jpg'\n",
    "                cv2.imwrite(path_prefix+fname, thisFace)\n",
    "                metadata[fname] = encodings[i]\n",
    "            face_counter += 1\n",
    "    return(metadata)"
   ]
  },
  {
   "cell_type": "code",
   "execution_count": 56,
   "metadata": {},
   "outputs": [],
   "source": [
    "cap1 = cv2.VideoCapture(videofile)\n",
    "w1 = int(cap1.get(3))\n",
    "h1 = int(cap1.get(4))\n",
    "face_counter = 0\n",
    "flag = True\n",
    "frameno = 0\n",
    "frameinterval = 1 #10\n",
    "while cap1.isOpened():\n",
    "    ret1, frame1 = cap1.read()\n",
    "    frameno += 1\n",
    "    if not ((frameno % frameinterval) == 0):\n",
    "        continue\n",
    "    if ret1 :\n",
    "        frame1 = resizeframe(frame1)\n",
    "        frame = frame1.copy()\n",
    "        cv2.imshow('Frames- pause p; resume r; quit q',frame)\n",
    "        if cv2.waitKey(1) & 0xFF == ord('p'): #pause\n",
    "            while (True):\n",
    "                if flag:\n",
    "                    nooffaces = savefacesfromframes(frame)\n",
    "                    draw_str(frame, 20, 20, 'No of faces identified: '+ str(nooffaces))\n",
    "                    cv2.imshow('Frames- pause p; resume r; quit q',frame)\n",
    "                    flag = False\n",
    "                if cv2.waitKey(1) & 0xFF == ord('r'): #resume\n",
    "                    flag = True\n",
    "                    break\n",
    "        if cv2.waitKey(10) & 0xFF == ord('q'): #quit\n",
    "            break\n",
    "    else:\n",
    "         break\n",
    "cap1.release()\n",
    "cv2.destroyAllWindows()\n"
   ]
  },
  {
   "cell_type": "code",
   "execution_count": 57,
   "metadata": {},
   "outputs": [],
   "source": [
    "data = []\n",
    "with open(pickle_path, 'rb') as f:\n",
    "    try:\n",
    "        while True:\n",
    "            data.append(pickle.load(f))\n",
    "    except EOFError:\n",
    "        pass\n"
   ]
  },
  {
   "cell_type": "code",
   "execution_count": 58,
   "metadata": {},
   "outputs": [],
   "source": [
    "fdata = {}\n",
    "for thisdata in data:\n",
    "    fdata.update(thisdata)"
   ]
  },
  {
   "cell_type": "code",
   "execution_count": 59,
   "metadata": {},
   "outputs": [
    {
     "data": {
      "text/plain": [
       "(125, dict)"
      ]
     },
     "execution_count": 59,
     "metadata": {},
     "output_type": "execute_result"
    }
   ],
   "source": [
    "len(fdata), type(fdata)"
   ]
  },
  {
   "cell_type": "code",
   "execution_count": null,
   "metadata": {},
   "outputs": [],
   "source": []
  }
 ],
 "metadata": {
  "kernelspec": {
   "display_name": "campenv",
   "language": "python",
   "name": "campenv"
  },
  "language_info": {
   "codemirror_mode": {
    "name": "ipython",
    "version": 3
   },
   "file_extension": ".py",
   "mimetype": "text/x-python",
   "name": "python",
   "nbconvert_exporter": "python",
   "pygments_lexer": "ipython3",
   "version": "3.6.6"
  }
 },
 "nbformat": 4,
 "nbformat_minor": 2
}
