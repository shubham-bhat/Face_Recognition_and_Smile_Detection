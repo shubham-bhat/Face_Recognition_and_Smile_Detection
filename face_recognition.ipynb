{
 "cells": [
  {
   "cell_type": "code",
   "execution_count": 1,
   "metadata": {},
   "outputs": [],
   "source": [
    "import numpy as np\n",
    "import cv2\n",
    "import face_recognition\n",
    "import imutils\n",
    "import pickle"
   ]
  },
  {
   "cell_type": "code",
   "execution_count": 2,
   "metadata": {},
   "outputs": [],
   "source": [
    "videofile = 'team-rotated.mp4'\n",
    "path_prefix = 'C:/Users/jshru_000/bootcamp1/FINAL/faces/'\n",
    "pickle_path = path_prefix+'facesmeta.pkl'"
   ]
  },
  {
   "cell_type": "code",
   "execution_count": 3,
   "metadata": {},
   "outputs": [],
   "source": [
    "data = []\n",
    "with open(pickle_path, 'rb') as f:\n",
    "    try:\n",
    "        while True:\n",
    "            data.append(pickle.load(f))\n",
    "    except EOFError:\n",
    "        pass"
   ]
  },
  {
   "cell_type": "code",
   "execution_count": 4,
   "metadata": {},
   "outputs": [],
   "source": [
    "encdb = []\n",
    "names = []\n",
    "fnames = list(data[0].keys())\n",
    "for fname in fnames:\n",
    "    encdb.append(data[0][fname]['encoding'])\n",
    "    names.append(data[0][fname]['name'])"
   ]
  },
  {
   "cell_type": "code",
   "execution_count": 5,
   "metadata": {},
   "outputs": [],
   "source": [
    "def resizeframe(image, width=500):\n",
    "    w = float(width)\n",
    "    r = w / image.shape[1]\n",
    "    dim = (width, int(image.shape[0] * r))\n",
    "    resized = cv2.resize(image, dim, interpolation = cv2.INTER_AREA)\n",
    "    xr = dim[0]/float(image.shape[1])\n",
    "    yr = dim[1]/float(image.shape[0])\n",
    "    return resized"
   ]
  },
  {
   "cell_type": "code",
   "execution_count": 6,
   "metadata": {},
   "outputs": [],
   "source": [
    "def draw_str(dst, x, y, s, right=0):\n",
    "    fontFace = cv2.FONT_HERSHEY_PLAIN\n",
    "    fontScale = 1.0\n",
    "    thickness = 2\n",
    "    txtsize = cv2.getTextSize(s, fontFace, fontScale, thickness)\n",
    "    text_width = txtsize[0][0]\n",
    "    if right == 0:\n",
    "        cv2.putText(dst, s, (x+1, y+1), fontFace, fontScale, (0, 0, 0), thickness = thickness, lineType=cv2.LINE_AA)\n",
    "        cv2.putText(dst, s, (x, y), fontFace, fontScale, (0, 0, 255), lineType=cv2.LINE_AA)\n",
    "    else:\n",
    "        wi = right - x\n",
    "        if text_width > wi:\n",
    "            scalefactor = wi/text_width\n",
    "            fontScale *= scalefactor\n",
    "        cv2.putText(dst, s, (x+1, y+1), fontFace, fontScale, (0, 0, 0), thickness = thickness, lineType=cv2.LINE_AA)\n",
    "        cv2.putText(dst, s, (x, y), fontFace, fontScale, (0, 0, 255), lineType=cv2.LINE_AA)\n",
    "        "
   ]
  },
  {
   "cell_type": "code",
   "execution_count": 7,
   "metadata": {},
   "outputs": [],
   "source": [
    "def get_faces(frame):\n",
    "    newframe = frame.copy()\n",
    "    model = 'hog' # 'cnn'\n",
    "    metadata = {}\n",
    "    rgb = cv2.cvtColor(frame, cv2.COLOR_BGR2RGB)\n",
    "    rgb = imutils.resize(frame, width=750)\n",
    "    r = frame.shape[1] / float(rgb.shape[1])\n",
    "    boxes = face_recognition.face_locations(rgb,model=model)\n",
    "    if not boxes == []:\n",
    "        encodings = face_recognition.face_encodings(rgb, boxes)\n",
    "        assert len(encodings) == len(boxes)\n",
    "        for i, (top, right, bottom, left) in enumerate(boxes):\n",
    "            top = int(top * r)\n",
    "            right = int(right * r)\n",
    "            bottom = int(bottom * r)\n",
    "            left = int(left * r)\n",
    "            cv2.rectangle(newframe, (left, top), (right, bottom), (0, 255, 0), 2)\n",
    "            #thisFace = frame[top:bottom,left:right]\n",
    "            name = search_facedb(encodings[i])\n",
    "            draw_str(newframe,left,top,name, right=right)\n",
    "    else:\n",
    "        draw_str(newframe,20,20,'No face identified')\n",
    "    return(newframe)"
   ]
  },
  {
   "cell_type": "code",
   "execution_count": 8,
   "metadata": {},
   "outputs": [],
   "source": [
    "def search_facedb(enc):\n",
    "    tolerance = 0.5\n",
    "    matches = face_recognition.compare_faces(encdb,enc,tolerance=tolerance)\n",
    "    if True in matches:\n",
    "        matchedIdxs = [i for (i, b) in enumerate(matches) if b]\n",
    "        counts = {}\n",
    "        for i in matchedIdxs:\n",
    "            name = names[i]\n",
    "            counts[name] = counts.get(name, 0) + 1\n",
    "        name = max(counts, key=counts.get)\n",
    "    else:\n",
    "        name='unknown'\n",
    "    return(name)"
   ]
  },
  {
   "cell_type": "code",
   "execution_count": 9,
   "metadata": {},
   "outputs": [],
   "source": [
    "cap1 = cv2.VideoCapture(videofile)\n",
    "w1 = int(cap1.get(3))\n",
    "h1 = int(cap1.get(4))\n",
    "face_counter = 0\n",
    "flag = True\n",
    "frameno = 0\n",
    "frameinterval = 1 #10\n",
    "\n",
    "while cap1.isOpened():\n",
    "    ret1, frame1 = cap1.read()\n",
    "    frameno += 1\n",
    "    if not ((frameno % frameinterval) == 0):\n",
    "        continue\n",
    "    if ret1 :\n",
    "        frame1 = resizeframe(frame1)\n",
    "        frame = frame1.copy()\n",
    "        cv2.imshow('Frames- pause p; resume r; quit q',frame)\n",
    "        if cv2.waitKey(1) & 0xFF == ord('p'): #pause\n",
    "            while (True):\n",
    "                if flag:\n",
    "                    newframe = get_faces(frame)\n",
    "                    cv2.imshow('Frames- pause p; resume r; quit q',newframe)\n",
    "                    flag = False\n",
    "                if cv2.waitKey(1) & 0xFF == ord('r'): #resume\n",
    "                    flag = True\n",
    "                    break\n",
    "        if cv2.waitKey(10) & 0xFF == ord('q'): #quit\n",
    "            break\n",
    "    else:\n",
    "        break\n",
    "cap1.release()\n",
    "cv2.destroyAllWindows()"
   ]
  },
  {
   "cell_type": "code",
   "execution_count": null,
   "metadata": {},
   "outputs": [],
   "source": []
  },
  {
   "cell_type": "code",
   "execution_count": null,
   "metadata": {},
   "outputs": [],
   "source": []
  },
  {
   "cell_type": "code",
   "execution_count": null,
   "metadata": {},
   "outputs": [],
   "source": []
  },
  {
   "cell_type": "code",
   "execution_count": null,
   "metadata": {},
   "outputs": [],
   "source": []
  }
 ],
 "metadata": {
  "kernelspec": {
   "display_name": "campenv",
   "language": "python",
   "name": "campenv"
  },
  "language_info": {
   "codemirror_mode": {
    "name": "ipython",
    "version": 3
   },
   "file_extension": ".py",
   "mimetype": "text/x-python",
   "name": "python",
   "nbconvert_exporter": "python",
   "pygments_lexer": "ipython3",
   "version": "3.6.6"
  }
 },
 "nbformat": 4,
 "nbformat_minor": 2
}
