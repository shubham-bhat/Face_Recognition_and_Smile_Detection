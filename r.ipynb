{
 "cells": [
  {
   "cell_type": "code",
   "execution_count": 1,
   "metadata": {},
   "outputs": [],
   "source": [
    "import cv2\n",
    "import time\n",
    "\n",
    "import numpy as np\n",
    "import face_recognition\n",
    "import imutils\n",
    "import pickle"
   ]
  },
  {
   "cell_type": "code",
   "execution_count": 2,
   "metadata": {},
   "outputs": [],
   "source": [
    "videofile = 'vp-rotated.mov'\n",
    "path_prefix = 'C:/Users/jshru_000/bootcamp1/FINAL/faces/'\n",
    "pickle_path = path_prefix+'facesmeta.pkl'"
   ]
  },
  {
   "cell_type": "code",
   "execution_count": 3,
   "metadata": {},
   "outputs": [],
   "source": [
    "data = []\n",
    "with open(pickle_path, 'rb') as f:\n",
    "    try:\n",
    "        while True:\n",
    "            data.append(pickle.load(f))\n",
    "    except EOFError:\n",
    "        pass"
   ]
  },
  {
   "cell_type": "code",
   "execution_count": 4,
   "metadata": {},
   "outputs": [],
   "source": [
    "encdb = []\n",
    "names = []\n",
    "fnames = list(data[0].keys())\n",
    "for fname in fnames:\n",
    "    encdb.append(data[0][fname]['encoding'])\n",
    "    names.append(data[0][fname]['name'])"
   ]
  },
  {
   "cell_type": "code",
   "execution_count": 5,
   "metadata": {},
   "outputs": [],
   "source": [
    "def resizeframe(image, width=500):\n",
    "    w = float(width)\n",
    "    r = w / image.shape[1]\n",
    "    dim = (width, int(image.shape[0] * r))\n",
    "    resized = cv2.resize(image, dim, interpolation = cv2.INTER_AREA)\n",
    "    xr = dim[0]/float(image.shape[1])\n",
    "    yr = dim[1]/float(image.shape[0])\n",
    "    return resized"
   ]
  },
  {
   "cell_type": "code",
   "execution_count": 6,
   "metadata": {},
   "outputs": [],
   "source": [
    "def draw_str(dst, x, y, s, right=0):\n",
    "    fontFace = cv2.FONT_HERSHEY_PLAIN\n",
    "    fontScale = 2.0\n",
    "    thickness = 2\n",
    "    txtsize = cv2.getTextSize(s, fontFace, fontScale, thickness)\n",
    "    text_width = txtsize[0][0]\n",
    "    if right == 0:\n",
    "        cv2.putText(dst, s, (x+1, y+1), fontFace, fontScale, (0, 0, 0), thickness = thickness, lineType=cv2.LINE_AA)\n",
    "        cv2.putText(dst, s, (x, y), fontFace, fontScale, (26,71, 255), lineType=cv2.LINE_AA)\n",
    "    else:\n",
    "        wi = right - x\n",
    "        if text_width > wi:\n",
    "            scalefactor = wi/text_width\n",
    "            fontScale *= scalefactor\n",
    "        cv2.putText(dst, s, (x+1, y+1), fontFace, fontScale, (0, 0, 0), thickness = thickness, lineType=cv2.LINE_AA)\n",
    "        cv2.putText(dst, s, (x, y), fontFace, fontScale, (26, 71, 255), lineType=cv2.LINE_AA)"
   ]
  },
  {
   "cell_type": "code",
   "execution_count": 7,
   "metadata": {},
   "outputs": [],
   "source": [
    "def get_faces(frame):\n",
    "    newframe = frame.copy()\n",
    "    model = 'hog' # 'cnn'\n",
    "    metadata = {}\n",
    "    rgb = cv2.cvtColor(frame, cv2.COLOR_BGR2RGB)\n",
    "    rgb = imutils.resize(frame, width=750)\n",
    "    r = frame.shape[1] / float(rgb.shape[1])\n",
    "    boxes = face_recognition.face_locations(rgb,model=model)\n",
    "    if not boxes == []:\n",
    "        encodings = face_recognition.face_encodings(rgb, boxes)\n",
    "        assert len(encodings) == len(boxes)\n",
    "        for i, (top, right, bottom, left) in enumerate(boxes):\n",
    "            top = int(top * r)\n",
    "            right = int(right * r)\n",
    "            bottom = int(bottom * r)\n",
    "            left = int(left * r)\n",
    "            cv2.rectangle(newframe, (left, top), (right, bottom), (0, 255, 0), 2)\n",
    "            #thisFace = frame[top:bottom,left:right]\n",
    "            name = search_facedb(encodings[i])\n",
    "            draw_str(newframe,left,top,name, right=right)\n",
    "    else:\n",
    "        draw_str(newframe,20,20,'No face identified')\n",
    "    return(newframe)"
   ]
  },
  {
   "cell_type": "code",
   "execution_count": 8,
   "metadata": {},
   "outputs": [],
   "source": [
    "def search_facedb(enc):\n",
    "    tolerance = 0.5\n",
    "    matches = face_recognition.compare_faces(encdb,enc,tolerance=tolerance)\n",
    "    if True in matches:\n",
    "        matchedIdxs = [i for (i, b) in enumerate(matches) if b]\n",
    "        counts = {}\n",
    "        for i in matchedIdxs:\n",
    "            name = names[i]\n",
    "            counts[name] = counts.get(name, 0) + 1\n",
    "        name = max(counts, key=counts.get)\n",
    "    else:\n",
    "        name='Hi'\n",
    "    return(name)"
   ]
  },
  {
   "cell_type": "code",
   "execution_count": 9,
   "metadata": {},
   "outputs": [],
   "source": [
    "face_cascade_path = \"haarcascade_frontalface_default.xml\"\n",
    "smile_cascade_path = \"haarcascade_smile.xml\"\n",
    "\n",
    "face_cascade = cv2.CascadeClassifier(face_cascade_path)\n",
    "smile_cascade = cv2.CascadeClassifier(smile_cascade_path)"
   ]
  },
  {
   "cell_type": "code",
   "execution_count": 10,
   "metadata": {},
   "outputs": [
    {
     "data": {
      "text/plain": [
       "True"
      ]
     },
     "execution_count": 10,
     "metadata": {},
     "output_type": "execute_result"
    }
   ],
   "source": [
    "video_capture = cv2.VideoCapture(0)\n",
    "video_capture.set(3, 640)\n",
    "video_capture.set(4, 480)"
   ]
  },
  {
   "cell_type": "code",
   "execution_count": 11,
   "metadata": {},
   "outputs": [],
   "source": [
    "\n",
    "while True:\n",
    "    ret, frame = video_capture.read()\n",
    "\n",
    "    gray = cv2.cvtColor(frame, cv2.COLOR_BGR2GRAY)\n",
    "    frame=get_faces(frame)     #name\n",
    "\n",
    "    faces = face_cascade.detectMultiScale(\n",
    "        gray,\n",
    "        scaleFactor = 1.05,\n",
    "        minNeighbors = 22,\n",
    "        minSize = (55, 55),\n",
    "        flags = cv2.CASCADE_SCALE_IMAGE\n",
    "    )\n",
    "\n",
    "    for (x, y, w, h) in faces:\n",
    "#         cv2.rectangle(frame, (x, y), (x+w, y+h), (0, 255, 0), 2)\n",
    "        roi_gray = gray[y:y+h, x:x+w]\n",
    "        roi_color = frame[y:y+h, x:x+w]\n",
    "\n",
    "        smile = smile_cascade.detectMultiScale(\n",
    "            roi_gray,\n",
    "            scaleFactor = 1.8,\n",
    "            minNeighbors=30,\n",
    "            minSize = (25, 25),\n",
    "            flags = cv2.CASCADE_SCALE_IMAGE\n",
    "        )\n",
    "        \n",
    "        for (x, y, w, h) in smile:\n",
    "            cv2.rectangle(roi_color, (x, y-20), (x+w, y+h), (255, 0, 0), 1)\n",
    "#             cv2.imwrite(str(time.time()) + \".png\", frame)\n",
    "            cv2.putText(frame, \"smiling\", (10,40), cv2.FONT_ITALIC,1.5, (255, 0, 0), thickness =1, lineType=cv2.LINE_AA)\n",
    "            exit(0)\n",
    "        \n",
    "    cv2.imshow('Real-time Smile Detect', frame)\n",
    "    \n",
    "    \n",
    "#     if ret :\n",
    "# #         frame = resizeframe(frame)\n",
    "#         frame1 = frame.copy()\n",
    "# #         cv2.imshow('Frames- pause p; resume r; quit q',frame)\n",
    "#         if cv2.waitKey(1) & 0xFF == ord('p'): #pause\n",
    "#             while (True):\n",
    "#                 if flag:\n",
    "#                     newframe = get_faces(frame1)\n",
    "#                     cv2.imshow('Frames- pause p; resume r; quit q',frame1)\n",
    "#                     flag = False\n",
    "#                 if cv2.waitKey(1) & 0xFF == ord('r'): #resume\n",
    "#                     flag = True\n",
    "#                     break\n",
    "# #         if cv2.waitKey(10) & 0xFF == ord('q'): #quit\n",
    "# #             break\n",
    "    \n",
    "    \n",
    "\n",
    "    if cv2.waitKey(1) == ord('q'):\n",
    "        break\n",
    "\n",
    "video_capture.release()\n",
    "cv2.destroyAllWindows()\n"
   ]
  },
  {
   "cell_type": "code",
   "execution_count": null,
   "metadata": {},
   "outputs": [],
   "source": []
  }
 ],
 "metadata": {
  "kernelspec": {
   "display_name": "campenv",
   "language": "python",
   "name": "campenv"
  },
  "language_info": {
   "codemirror_mode": {
    "name": "ipython",
    "version": 3
   },
   "file_extension": ".py",
   "mimetype": "text/x-python",
   "name": "python",
   "nbconvert_exporter": "python",
   "pygments_lexer": "ipython3",
   "version": "3.6.6"
  }
 },
 "nbformat": 4,
 "nbformat_minor": 2
}
